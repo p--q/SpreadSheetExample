{
 "cells": [
  {
   "cell_type": "markdown",
   "metadata": {
    "deletable": true,
    "editable": true
   },
   "source": [
    "#### コードポイントのシークエンスを文字列に変換する"
   ]
  },
  {
   "cell_type": "markdown",
   "metadata": {
    "deletable": true,
    "editable": true
   },
   "source": [
    "LibreOfficeではAlt+xでコードポイントと文字の変換ができました。"
   ]
  },
  {
   "cell_type": "markdown",
   "metadata": {
    "deletable": true,
    "editable": true
   },
   "source": [
    "Pythonでは4桁の16進数のコードポイントは\\u、8桁の16進数のコードポイントは\\Uでエスケープしてテキストシークエンス型(str)で与えるとその文字列が取得できます。"
   ]
  },
  {
   "cell_type": "markdown",
   "metadata": {
    "deletable": true,
    "editable": true
   },
   "source": [
    "ユニコードポイントの16進数は大文字でも小文字でも同じ結果になるのですが、Pythonで処理した結果は小文字で返ってくるので小文字の16進数でコードポイントを書いています。"
   ]
  },
  {
   "cell_type": "code",
   "execution_count": 1,
   "metadata": {
    "collapsed": false,
    "deletable": true,
    "editable": true
   },
   "outputs": [
    {
     "data": {
      "text/plain": [
       "'オプションボタン1'"
      ]
     },
     "execution_count": 1,
     "metadata": {},
     "output_type": "execute_result"
    }
   ],
   "source": [
    "# UnicodeリテラルとASCII文字の文字列。\n",
    "u = \"\\u30aa\\u30d7\\u30b7\\u30e7\\u30f3\\u30dc\\u30bf\\u30f31\"  \n",
    "u"
   ]
  },
  {
   "cell_type": "markdown",
   "metadata": {
    "deletable": true,
    "editable": true
   },
   "source": [
    "このコードポイントは<a href=\"https://p--q.blogspot.jp/2016/03/libreoffice529_6.html\">LibreOffice5(29)ダイアログエディタの言語ツールバーを利用する方法</a>で作成したLibreOfficeの.propertiesファイルに出力されたものです。"
   ]
  },
  {
   "cell_type": "markdown",
   "metadata": {},
   "source": [
    "Jupyter Notebookやコンソールでオブジェクトだけ渡したときに表示されるのはオブジェクトの印字可能な表現を含む文字列、つまりrepr()の戻り値です。"
   ]
  },
  {
   "cell_type": "markdown",
   "metadata": {},
   "source": [
    "strを渡すとクォートされた文字列が返ってきます。"
   ]
  },
  {
   "cell_type": "code",
   "execution_count": 2,
   "metadata": {
    "collapsed": false
   },
   "outputs": [
    {
     "name": "stdout",
     "output_type": "stream",
     "text": [
      "オプションボタン1\n"
     ]
    }
   ],
   "source": [
    "print(u)"
   ]
  },
  {
   "cell_type": "markdown",
   "metadata": {},
   "source": [
    "print()を使えば文字列が出力されます。"
   ]
  },
  {
   "cell_type": "markdown",
   "metadata": {
    "deletable": true,
    "editable": true
   },
   "source": [
    "<a href=\"https://p--q.blogspot.jp/2018/03/libreoffice5151unicodevariation-selector.html\">LibreOffice5(151)UnicodeのVariation Selector で「辻」のしんにょうの点の個数を変える</a>のVariation Selectorは5桁の16進数なので\\Uでエスケープして8桁の16進数にして渡します。"
   ]
  },
  {
   "cell_type": "code",
   "execution_count": 3,
   "metadata": {
    "collapsed": false,
    "deletable": true,
    "editable": true
   },
   "outputs": [
    {
     "data": {
      "text/plain": [
       "'辻󠄀'"
      ]
     },
     "execution_count": 3,
     "metadata": {},
     "output_type": "execute_result"
    }
   ],
   "source": [
    "# Variation Selectorを使う。\n",
    "t = \"\\u8FBB\\U000E0100\"  \n",
    "t"
   ]
  },
  {
   "cell_type": "markdown",
   "metadata": {
    "deletable": true,
    "editable": true
   },
   "source": [
    "コンソールがVS(Variation Selector)に対応していて、かつVSに対応したフォントを使っていればしんにょうの点が1個の「辻」が表示されるはずですが、Windows10のPowerShellはVSに対応していないようです。"
   ]
  },
  {
   "cell_type": "markdown",
   "metadata": {
    "deletable": true,
    "editable": true
   },
   "source": [
    "#### 文字列をコードポイントのシークエンスに変換する2つの方法"
   ]
  },
  {
   "cell_type": "code",
   "execution_count": 4,
   "metadata": {
    "collapsed": false,
    "deletable": true,
    "editable": true
   },
   "outputs": [
    {
     "data": {
      "text/plain": [
       "'オプションボタン1'"
      ]
     },
     "execution_count": 4,
     "metadata": {},
     "output_type": "execute_result"
    }
   ],
   "source": [
    "u"
   ]
  },
  {
   "cell_type": "markdown",
   "metadata": {
    "deletable": true,
    "editable": true
   },
   "source": [
    "この文字列のコードポイントを見るには関数ascii()を使う方法が簡単です。"
   ]
  },
  {
   "cell_type": "code",
   "execution_count": 5,
   "metadata": {
    "collapsed": false,
    "deletable": true,
    "editable": true
   },
   "outputs": [
    {
     "data": {
      "text/plain": [
       "\"'\\\\u30aa\\\\u30d7\\\\u30b7\\\\u30e7\\\\u30f3\\\\u30dc\\\\u30bf\\\\u30f31'\""
      ]
     },
     "execution_count": 5,
     "metadata": {},
     "output_type": "execute_result"
    }
   ],
   "source": [
    "# 文字列の中のUnicode文字をUnicodeリテラルにする。\n",
    "a = ascii(u)\n",
    "a"
   ]
  },
  {
   "cell_type": "markdown",
   "metadata": {
    "deletable": true,
    "editable": true
   },
   "source": [
    "関数ascii()はrepr()の戻り値の文字列のうち非ASCII文字を\\x、\\u、\\Uのいずれかでエスケープした文字列を返します。"
   ]
  },
  {
   "cell_type": "markdown",
   "metadata": {},
   "source": [
    "ASCII文字はASCII文字のまま返ってきます。"
   ]
  },
  {
   "cell_type": "markdown",
   "metadata": {
    "deletable": true,
    "editable": true
   },
   "source": [
    "Pythonのテキストシーケンス型のrepr()は通常はシングルクォートで返ってくるのでascii()に文字列を渡すした戻り値の文字列のrepr()はダブルクォートにシングルクォートが埋め込まれて返ってきます。"
   ]
  },
  {
   "cell_type": "markdown",
   "metadata": {
    "deletable": true,
    "editable": true
   },
   "source": [
    "repr()ではエスケープシーケンス\\uもエスケープしないとコードポイントが文字になってしまうので、\\uがエスケープされています。"
   ]
  },
  {
   "cell_type": "code",
   "execution_count": 6,
   "metadata": {
    "collapsed": false,
    "deletable": true,
    "editable": true
   },
   "outputs": [
    {
     "name": "stdout",
     "output_type": "stream",
     "text": [
      "'\\u30aa\\u30d7\\u30b7\\u30e7\\u30f3\\u30dc\\u30bf\\u30f31'\n"
     ]
    }
   ],
   "source": [
    "print(a)"
   ]
  },
  {
   "cell_type": "markdown",
   "metadata": {
    "deletable": true,
    "editable": true
   },
   "source": [
    "print()で出力するとrepr()の戻り値をstr()の結果として文字列のコードポイントを取得出来ます。"
   ]
  },
  {
   "cell_type": "markdown",
   "metadata": {
    "deletable": true,
    "editable": true
   },
   "source": [
    "コードポイントを取得するもう一つの方法はPython特有のエンコーディングのunicode_escapeでエンコードする方法です。"
   ]
  },
  {
   "cell_type": "code",
   "execution_count": 7,
   "metadata": {
    "collapsed": false,
    "deletable": true,
    "editable": true
   },
   "outputs": [
    {
     "data": {
      "text/plain": [
       "b'\\\\u30aa\\\\u30d7\\\\u30b7\\\\u30e7\\\\u30f3\\\\u30dc\\\\u30bf\\\\u30f31'"
      ]
     },
     "execution_count": 7,
     "metadata": {},
     "output_type": "execute_result"
    }
   ],
   "source": [
    "# unicode_escapeでバイト列にエンコードする。\n",
    "b = u.encode('unicode_escape')  \n",
    "b"
   ]
  },
  {
   "cell_type": "markdown",
   "metadata": {
    "deletable": true,
    "editable": true
   },
   "source": [
    "unicode_escapeでエンコードするとコードポイントになったバイト列が取得できます。"
   ]
  },
  {
   "cell_type": "markdown",
   "metadata": {},
   "source": [
    "これもASCII文字はASCII文字のまま返ってきます。"
   ]
  },
  {
   "cell_type": "code",
   "execution_count": 8,
   "metadata": {
    "collapsed": false,
    "deletable": true,
    "editable": true
   },
   "outputs": [
    {
     "data": {
      "text/plain": [
       "'\\\\u30aa\\\\u30d7\\\\u30b7\\\\u30e7\\\\u30f3\\\\u30dc\\\\u30bf\\\\u30f31'"
      ]
     },
     "execution_count": 8,
     "metadata": {},
     "output_type": "execute_result"
    }
   ],
   "source": [
    "# バイト列をutf-8として文字列にデコードする。\n",
    "d = b.decode()\n",
    "d"
   ]
  },
  {
   "cell_type": "markdown",
   "metadata": {
    "deletable": true,
    "editable": true
   },
   "source": [
    "コードポイントのままバイト列を文字列にするには、バイト列をutf-8エンコードとしてデコードして文字列にします。"
   ]
  },
  {
   "cell_type": "code",
   "execution_count": 9,
   "metadata": {
    "collapsed": false,
    "deletable": true,
    "editable": true
   },
   "outputs": [
    {
     "name": "stdout",
     "output_type": "stream",
     "text": [
      "\\u30aa\\u30d7\\u30b7\\u30e7\\u30f3\\u30dc\\u30bf\\u30f31\n"
     ]
    }
   ],
   "source": [
    "print(d)"
   ]
  },
  {
   "cell_type": "markdown",
   "metadata": {
    "deletable": true,
    "editable": true
   },
   "source": [
    "print()すると元の文字列のコードポイントのシークエンスが取得できます。"
   ]
  },
  {
   "cell_type": "markdown",
   "metadata": {
    "deletable": true,
    "editable": true
   },
   "source": [
    "以上、文字列をコードポイントのシークエンスに変換するの方法をまとめると次の2つになります。"
   ]
  },
  {
   "cell_type": "code",
   "execution_count": 10,
   "metadata": {
    "collapsed": false,
    "deletable": true,
    "editable": true
   },
   "outputs": [
    {
     "data": {
      "text/plain": [
       "'オプションボタン1'"
      ]
     },
     "execution_count": 10,
     "metadata": {},
     "output_type": "execute_result"
    }
   ],
   "source": [
    "u"
   ]
  },
  {
   "cell_type": "code",
   "execution_count": 11,
   "metadata": {
    "collapsed": false,
    "deletable": true,
    "editable": true
   },
   "outputs": [
    {
     "name": "stdout",
     "output_type": "stream",
     "text": [
      "\\u30aa\\u30d7\\u30b7\\u30e7\\u30f3\\u30dc\\u30bf\\u30f31\n"
     ]
    }
   ],
   "source": [
    "print(ascii(u)[1:-1])  # 関数ascii()を使う方法。"
   ]
  },
  {
   "cell_type": "code",
   "execution_count": 12,
   "metadata": {
    "collapsed": false,
    "deletable": true,
    "editable": true
   },
   "outputs": [
    {
     "name": "stdout",
     "output_type": "stream",
     "text": [
      "\\u30aa\\u30d7\\u30b7\\u30e7\\u30f3\\u30dc\\u30bf\\u30f31\n"
     ]
    }
   ],
   "source": [
    "print(u.encode('unicode_escape').decode())  # unicode_escapeでデコードする方法。"
   ]
  },
  {
   "cell_type": "markdown",
   "metadata": {
    "deletable": true,
    "editable": true
   },
   "source": [
    "VSがついたコードポイントもちゃんとコードポイントに戻せます。"
   ]
  },
  {
   "cell_type": "code",
   "execution_count": 13,
   "metadata": {
    "collapsed": false,
    "deletable": true,
    "editable": true
   },
   "outputs": [
    {
     "data": {
      "text/plain": [
       "'辻󠄀'"
      ]
     },
     "execution_count": 13,
     "metadata": {},
     "output_type": "execute_result"
    }
   ],
   "source": [
    "t  # \"\\u8FBB\\U000E0100\""
   ]
  },
  {
   "cell_type": "code",
   "execution_count": 14,
   "metadata": {
    "collapsed": false,
    "deletable": true,
    "editable": true
   },
   "outputs": [
    {
     "name": "stdout",
     "output_type": "stream",
     "text": [
      "\\u8fbb\\U000e0100\n"
     ]
    }
   ],
   "source": [
    "print(ascii(t)[1:-1])  # 関数ascii()を使う方法。"
   ]
  },
  {
   "cell_type": "code",
   "execution_count": 15,
   "metadata": {
    "collapsed": false,
    "deletable": true,
    "editable": true
   },
   "outputs": [
    {
     "name": "stdout",
     "output_type": "stream",
     "text": [
      "\\u8fbb\\U000e0100\n"
     ]
    }
   ],
   "source": [
    "print(t.encode('unicode_escape').decode())  # unicode_escapeでデコードする方法。"
   ]
  },
  {
   "cell_type": "markdown",
   "metadata": {
    "collapsed": true,
    "deletable": true,
    "editable": true
   },
   "source": [
    "#### コードポイントと文字の名前の変換"
   ]
  },
  {
   "cell_type": "markdown",
   "metadata": {},
   "source": [
    "Unicodeの文字はコードポイント以外に名前でアクセスできます。"
   ]
  },
  {
   "cell_type": "markdown",
   "metadata": {},
   "source": [
    "<a href=\"https://docs.python.jp/3.5/library/unicodedata.html#unicodedata.name\">unicodedata.name()</a>でUnicode文字の名前が取得できます。"
   ]
  },
  {
   "cell_type": "code",
   "execution_count": 16,
   "metadata": {
    "collapsed": false
   },
   "outputs": [
    {
     "data": {
      "text/plain": [
       "'CJK UNIFIED IDEOGRAPH-8FBB'"
      ]
     },
     "execution_count": 16,
     "metadata": {},
     "output_type": "execute_result"
    }
   ],
   "source": [
    "import unicodedata\n",
    "unicodedata.name(\"辻\")  # Unicode文字の名前を取得。"
   ]
  },
  {
   "cell_type": "markdown",
   "metadata": {},
   "source": [
    "今度はこの異体字の点一つの「辻」の名前を調べてみます。"
   ]
  },
  {
   "cell_type": "code",
   "execution_count": 17,
   "metadata": {
    "collapsed": false
   },
   "outputs": [
    {
     "data": {
      "text/plain": [
       "'辻󠄀'"
      ]
     },
     "execution_count": 17,
     "metadata": {},
     "output_type": "execute_result"
    }
   ],
   "source": [
    "t  # \"\\u8FBB\\U000E0100\""
   ]
  },
  {
   "cell_type": "code",
   "execution_count": 18,
   "metadata": {
    "collapsed": false
   },
   "outputs": [
    {
     "ename": "TypeError",
     "evalue": "name() argument 1 must be a unicode character, not str",
     "output_type": "error",
     "traceback": [
      "\u001b[0;31m---------------------------------------------------------------------------\u001b[0m",
      "\u001b[0;31mTypeError\u001b[0m                                 Traceback (most recent call last)",
      "\u001b[0;32m<ipython-input-18-43317631bcf7>\u001b[0m in \u001b[0;36m<module>\u001b[0;34m()\u001b[0m\n\u001b[0;32m----> 1\u001b[0;31m \u001b[0municodedata\u001b[0m\u001b[0;34m.\u001b[0m\u001b[0mname\u001b[0m\u001b[0;34m(\u001b[0m\u001b[0mt\u001b[0m\u001b[0;34m)\u001b[0m  \u001b[0;31m# tはVSを含んでいるので一文字ではない。\u001b[0m\u001b[0;34m\u001b[0m\u001b[0m\n\u001b[0m",
      "\u001b[0;31mTypeError\u001b[0m: name() argument 1 must be a unicode character, not str"
     ]
    }
   ],
   "source": [
    "unicodedata.name(t)  # tはVSを含んでいるので一文字ではない。"
   ]
  },
  {
   "cell_type": "markdown",
   "metadata": {},
   "source": [
    "これは1文字ではないと言われて名前が取得できません。"
   ]
  },
  {
   "cell_type": "markdown",
   "metadata": {},
   "source": [
    "VSが一文字としてカウントされているからです。"
   ]
  },
  {
   "cell_type": "markdown",
   "metadata": {},
   "source": [
    "二文字以上のユニコード文字の名前を一括して調べるにはasciiでエンコードして、asciiでエンコードできない文字を名前で出力するようにします。"
   ]
  },
  {
   "cell_type": "code",
   "execution_count": 19,
   "metadata": {
    "collapsed": false,
    "deletable": true,
    "editable": true
   },
   "outputs": [
    {
     "data": {
      "text/plain": [
       "b'\\\\N{CJK UNIFIED IDEOGRAPH-8FBB}\\\\N{VARIATION SELECTOR-17}'"
      ]
     },
     "execution_count": 19,
     "metadata": {},
     "output_type": "execute_result"
    }
   ],
   "source": [
    "# ASCII文字以外は名前にしてバイト列にエンコードする。\n",
    "b = t.encode('ascii', 'namereplace')  \n",
    "b"
   ]
  },
  {
   "cell_type": "markdown",
   "metadata": {},
   "source": [
    "バイト列で返ってくるのでこれをutf-8としてデコードして文字列にします。"
   ]
  },
  {
   "cell_type": "code",
   "execution_count": 20,
   "metadata": {
    "collapsed": false
   },
   "outputs": [
    {
     "data": {
      "text/plain": [
       "'\\\\N{CJK UNIFIED IDEOGRAPH-8FBB}\\\\N{VARIATION SELECTOR-17}'"
      ]
     },
     "execution_count": 20,
     "metadata": {},
     "output_type": "execute_result"
    }
   ],
   "source": [
    "# バイト列をutf-8として文字列にデコードする。\n",
    "d = b.decode()\n",
    "d"
   ]
  },
  {
   "cell_type": "markdown",
   "metadata": {},
   "source": [
    "print()すると\\Nでエスケープした名前が取得できます。"
   ]
  },
  {
   "cell_type": "code",
   "execution_count": 21,
   "metadata": {
    "collapsed": false
   },
   "outputs": [
    {
     "name": "stdout",
     "output_type": "stream",
     "text": [
      "\\N{CJK UNIFIED IDEOGRAPH-8FBB}\\N{VARIATION SELECTOR-17}\n"
     ]
    }
   ],
   "source": [
    "print(d)"
   ]
  },
  {
   "cell_type": "markdown",
   "metadata": {},
   "source": [
    "VSのU+E0100の名前はVARIATION SELECTOR-17とわかります。なのでVS17と略されると理解できました。"
   ]
  },
  {
   "cell_type": "code",
   "execution_count": 22,
   "metadata": {
    "collapsed": false
   },
   "outputs": [
    {
     "data": {
      "text/plain": [
       "'辻󠄀'"
      ]
     },
     "execution_count": 22,
     "metadata": {},
     "output_type": "execute_result"
    }
   ],
   "source": [
    "# \\NでUnicode文字名をエスケープ。\n",
    "\"\\N{CJK UNIFIED IDEOGRAPH-8FBB}\\N{VARIATION SELECTOR-17}\""
   ]
  },
  {
   "cell_type": "markdown",
   "metadata": {},
   "source": [
    "名前を\\N{}に入れて文字列にするとその文字が取得できます。"
   ]
  },
  {
   "cell_type": "markdown",
   "metadata": {},
   "source": [
    "#### 異体字の長さにはVSが含まれてしまう"
   ]
  },
  {
   "cell_type": "markdown",
   "metadata": {},
   "source": [
    "異体字は元になる漢字と見えない文字であるVSの2つのユニコード文字から成り立っているのでlen()で長さをみると1文字なのに2が返ってきます。"
   ]
  },
  {
   "cell_type": "code",
   "execution_count": 23,
   "metadata": {
    "collapsed": false
   },
   "outputs": [
    {
     "data": {
      "text/plain": [
       "'辻󠄀'"
      ]
     },
     "execution_count": 23,
     "metadata": {},
     "output_type": "execute_result"
    }
   ],
   "source": [
    "t  # \"\\u8FBB\\U000E0100\""
   ]
  },
  {
   "cell_type": "code",
   "execution_count": 24,
   "metadata": {
    "collapsed": false
   },
   "outputs": [
    {
     "data": {
      "text/plain": [
       "2"
      ]
     },
     "execution_count": 24,
     "metadata": {},
     "output_type": "execute_result"
    }
   ],
   "source": [
    "len(t)  # ユニコード文字としては2文字になる。"
   ]
  },
  {
   "cell_type": "markdown",
   "metadata": {},
   "source": [
    "スライスするとインデックスで一つずつユニコード文字が取り出せます。"
   ]
  },
  {
   "cell_type": "code",
   "execution_count": 25,
   "metadata": {
    "collapsed": false
   },
   "outputs": [
    {
     "data": {
      "text/plain": [
       "'辻'"
      ]
     },
     "execution_count": 25,
     "metadata": {},
     "output_type": "execute_result"
    }
   ],
   "source": [
    "t[0]"
   ]
  },
  {
   "cell_type": "code",
   "execution_count": 26,
   "metadata": {
    "collapsed": false
   },
   "outputs": [
    {
     "data": {
      "text/plain": [
       "'󠄀'"
      ]
     },
     "execution_count": 26,
     "metadata": {},
     "output_type": "execute_result"
    }
   ],
   "source": [
    "t[1]"
   ]
  },
  {
   "cell_type": "markdown",
   "metadata": {},
   "source": [
    "VSにはグリフがないので何も出力されません。"
   ]
  },
  {
   "cell_type": "code",
   "execution_count": 27,
   "metadata": {
    "collapsed": false
   },
   "outputs": [
    {
     "data": {
      "text/plain": [
       "'辻'"
      ]
     },
     "execution_count": 27,
     "metadata": {},
     "output_type": "execute_result"
    }
   ],
   "source": [
    "v = t.replace(t[1], \"\")  # 2文字目を削除する。\n",
    "v"
   ]
  },
  {
   "cell_type": "code",
   "execution_count": 28,
   "metadata": {
    "collapsed": false
   },
   "outputs": [
    {
     "data": {
      "text/plain": [
       "1"
      ]
     },
     "execution_count": 28,
     "metadata": {},
     "output_type": "execute_result"
    }
   ],
   "source": [
    "len(v)"
   ]
  },
  {
   "cell_type": "markdown",
   "metadata": {},
   "source": [
    "VSを空文字に置換すると文字数は1個になりますが、この方法は汎用性がありませんね。"
   ]
  },
  {
   "cell_type": "markdown",
   "metadata": {},
   "source": [
    "#### 異字体を含む文字列の長さを取得する方法"
   ]
  },
  {
   "cell_type": "code",
   "execution_count": 29,
   "metadata": {
    "collapsed": false
   },
   "outputs": [],
   "source": [
    "k = \"奈良県葛\\U000E0100城市\"  # VSを含んだ文字列。"
   ]
  },
  {
   "cell_type": "code",
   "execution_count": 30,
   "metadata": {
    "collapsed": false
   },
   "outputs": [
    {
     "data": {
      "text/plain": [
       "'奈良県葛󠄀城市'"
      ]
     },
     "execution_count": 30,
     "metadata": {},
     "output_type": "execute_result"
    }
   ],
   "source": [
    "k"
   ]
  },
  {
   "cell_type": "markdown",
   "metadata": {},
   "source": [
    "メイリオなどAdobe-Japan1コレクションに対応したフォントの場合は「葛」の字が異体字の「葛󠄀」となって見えているはずです。"
   ]
  },
  {
   "cell_type": "code",
   "execution_count": 31,
   "metadata": {
    "collapsed": false
   },
   "outputs": [
    {
     "data": {
      "text/plain": [
       "7"
      ]
     },
     "execution_count": 31,
     "metadata": {},
     "output_type": "execute_result"
    }
   ],
   "source": [
    "len(k)  # VSも1文字としてカウントされる。"
   ]
  },
  {
   "cell_type": "markdown",
   "metadata": {},
   "source": [
    "VSがカウントされるので見た目は6文字なのに7文字と返ってきます。"
   ]
  },
  {
   "cell_type": "code",
   "execution_count": 32,
   "metadata": {
    "collapsed": false
   },
   "outputs": [
    {
     "name": "stdout",
     "output_type": "stream",
     "text": [
      "奈\n",
      "良\n",
      "県\n",
      "葛\n",
      "󠄀\n",
      "城\n",
      "市\n"
     ]
    }
   ],
   "source": [
    "for p in k:\n",
    "    if p:  # 空文字でないとき\n",
    "        print(p)"
   ]
  },
  {
   "cell_type": "markdown",
   "metadata": {},
   "source": [
    "VSはTrueになるのでif文で空文字として除外できません。"
   ]
  },
  {
   "cell_type": "code",
   "execution_count": 33,
   "metadata": {
    "collapsed": false
   },
   "outputs": [
    {
     "name": "stdout",
     "output_type": "stream",
     "text": [
      "Lo\n",
      "Lo\n",
      "Lo\n",
      "Lo\n",
      "Mn\n",
      "Lo\n",
      "Lo\n"
     ]
    }
   ],
   "source": [
    "for p in k:\n",
    "    print(unicodedata.category(p))  # Unicodeの汎用カテゴリを出力。"
   ]
  },
  {
   "cell_type": "markdown",
   "metadata": {},
   "source": [
    "Unicodeの汎用カテゴリを使えばVSを区別できそうです。"
   ]
  },
  {
   "cell_type": "markdown",
   "metadata": {},
   "source": [
    "<a href=\"https://en.wikipedia.org/wiki/Unicode_character_property\">Unicode character property - Wikipedia</a>のGeneral CategoryがUnicodeの汎用カテゴリになります。"
   ]
  },
  {
   "cell_type": "markdown",
   "metadata": {},
   "source": [
    "Mnは幅のない文字になります。"
   ]
  },
  {
   "cell_type": "code",
   "execution_count": 34,
   "metadata": {
    "collapsed": false
   },
   "outputs": [
    {
     "data": {
      "text/plain": [
       "6"
      ]
     },
     "execution_count": 34,
     "metadata": {},
     "output_type": "execute_result"
    }
   ],
   "source": [
    "# 汎用カテゴリがMnのときは数えない。\n",
    "len([p for p in k if unicodedata.category(p)!=\"Mn\"])"
   ]
  },
  {
   "cell_type": "markdown",
   "metadata": {},
   "source": [
    "これで見た目通りの文字数が取得出来ました。"
   ]
  },
  {
   "cell_type": "markdown",
   "metadata": {
    "deletable": true,
    "editable": true
   },
   "source": [
    "#### 文字→コードポイント→文字"
   ]
  },
  {
   "cell_type": "markdown",
   "metadata": {},
   "source": [
    "一つのUnicode文字だけであれば関数ord()とchr()が使えます。"
   ]
  },
  {
   "cell_type": "code",
   "execution_count": 35,
   "metadata": {
    "collapsed": false,
    "deletable": true,
    "editable": true
   },
   "outputs": [
    {
     "data": {
      "text/plain": [
       "26085"
      ]
     },
     "execution_count": 35,
     "metadata": {},
     "output_type": "execute_result"
    }
   ],
   "source": [
    "# 文字をコードポイントに変換。\n",
    "# 整数で返ってくる。\n",
    "codepoint = ord(\"日\")  \n",
    "codepoint"
   ]
  },
  {
   "cell_type": "code",
   "execution_count": 36,
   "metadata": {
    "collapsed": false,
    "deletable": true,
    "editable": true
   },
   "outputs": [
    {
     "data": {
      "text/plain": [
       "'0x65e5'"
      ]
     },
     "execution_count": 36,
     "metadata": {},
     "output_type": "execute_result"
    }
   ],
   "source": [
    "# コードポイントを16進数の文字列にする。\n",
    "hex(codepoint)  "
   ]
  },
  {
   "cell_type": "markdown",
   "metadata": {
    "deletable": true,
    "editable": true
   },
   "source": [
    "つまり「日」のコードポイントはU+65E5とわかります。"
   ]
  },
  {
   "cell_type": "code",
   "execution_count": 37,
   "metadata": {
    "collapsed": false,
    "deletable": true,
    "editable": true
   },
   "outputs": [
    {
     "data": {
      "text/plain": [
       "'日'"
      ]
     },
     "execution_count": 37,
     "metadata": {},
     "output_type": "execute_result"
    }
   ],
   "source": [
    "# コードポイントを文字にする。\n",
    "chr(codepoint)  "
   ]
  },
  {
   "cell_type": "markdown",
   "metadata": {
    "deletable": true,
    "editable": true
   },
   "source": [
    "これで元の文字に戻せました。"
   ]
  }
 ],
 "metadata": {
  "kernelspec": {
   "display_name": "Python 3",
   "language": "python",
   "name": "python3"
  },
  "language_info": {
   "codemirror_mode": {
    "name": "ipython",
    "version": 3
   },
   "file_extension": ".py",
   "mimetype": "text/x-python",
   "name": "python",
   "nbconvert_exporter": "python",
   "pygments_lexer": "ipython3",
   "version": "3.5.3"
  }
 },
 "nbformat": 4,
 "nbformat_minor": 2
}
